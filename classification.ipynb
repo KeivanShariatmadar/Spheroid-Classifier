import fastbook
fastbook.setup_book()

from fastbook import *
from fastai.vision.widgets import *

learn_inf = load_learner('/YOUR_TRAINED_MODEL.pkl')

learn_inf.dls.vocab

import numpy as np
import pandas as pd

path = Path('/YOUR_IMAGE_FOLDER')

%%capture
import os

data = np.array(('','','')),
    
for subdir, dirs, files in os.walk(path):
    for file in files:
        #print os.path.join(subdir, file)
        filepath = subdir + os.sep + file;
         

        if filepath.endswith(".jpg"):
            img = PILImage.create(filepath);
            pred,pred_idx,probs = learn_inf.predict(img);
            #lbl_pred = widgets.Label()
            #lbl_pred.value = f'Prediction: {pred}; Probability: {probs[pred_idx]:.04f}'
            #print(lbl_pred.value)
            data_it = np.array(([file,pred,f'{probs[pred_idx]}']));
            data = np.vstack([data,data_it]);
;

label = np.array(['DropletID','Prediction','Probability'])
data = np.vstack([label,data]) 
pd.DataFrame(data).to_csv(path/"YOUR_OUTPUT.csv")
